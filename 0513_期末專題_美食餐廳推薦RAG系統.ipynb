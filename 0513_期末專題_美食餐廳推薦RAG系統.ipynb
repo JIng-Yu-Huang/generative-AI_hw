{
  "nbformat": 4,
  "nbformat_minor": 0,
  "metadata": {
    "colab": {
      "provenance": [],
      "include_colab_link": true
    },
    "kernelspec": {
      "name": "python3",
      "display_name": "Python 3"
    },
    "language_info": {
      "name": "python"
    }
  },
  "cells": [
    {
      "cell_type": "markdown",
      "metadata": {
        "id": "view-in-github",
        "colab_type": "text"
      },
      "source": [
        "<a href=\"https://colab.research.google.com/github/JIng-Yu-Huang/generative-AI_hw/blob/main/0513_%E6%9C%9F%E6%9C%AB%E5%B0%88%E9%A1%8C_%E7%BE%8E%E9%A3%9F%E9%A4%90%E5%BB%B3%E6%8E%A8%E8%96%A6RAG%E7%B3%BB%E7%B5%B1.ipynb\" target=\"_parent\"><img src=\"https://colab.research.google.com/assets/colab-badge.svg\" alt=\"Open In Colab\"/></a>"
      ]
    },
    {
      "cell_type": "markdown",
      "source": [
        "# **期末專案提案--基於生成式 AI 與 RAG 技術的美食餐廳推薦系統🥞**\n",
        "學號：61308001E  \n",
        "系級：資教所 碩一  \n",
        "姓名：黃靖妤  "
      ],
      "metadata": {
        "id": "Zcn7fRVpBGKr"
      }
    },
    {
      "cell_type": "markdown",
      "source": [
        "# **📌專案概述**\n",
        "\n",
        "我的專案目標在於建立一個個人化的美食餐廳推薦系統。  \n",
        "透過生成式 AI與 RAG 技術，依據使用者需求與喜好，自動推薦現有的餐廳，推薦時會提供詳細且貼心的推薦理由，提升推薦品質。  \n",
        "會使用老師在第八周所教的內容來進行延伸！\n",
        "\n",
        "\n",
        "**專案目標**  \n",
        "\n",
        "1. 結合真實餐廳資料（資料來自 Google Maps 、美食評論網站，以及我自身的收藏餐廳），製作一份簡易「美食餐廳資料庫」（CSV）\n",
        "2. 提供個人化推薦（含地區、預算、口味）\n",
        "3. 使用 RAG 技術即時獲取最適合的餐廳資訊\n",
        "4. 由 GPT 模型生成自然、具說服力的推薦理由"
      ],
      "metadata": {
        "id": "utDNth-8PEZb"
      }
    },
    {
      "cell_type": "markdown",
      "source": [
        "# **🔨專案流程架構**\n",
        "\n",
        "流程包含三大部分：\n",
        "\n",
        " **1. 資料收集與準備**    \n",
        "\n",
        "採用簡單且現成的資料收集方式：\n",
        "\n",
        "利用 Google Maps、美食部落格和我自己收藏的美食，提供餐廳資訊，製作簡易美食資料庫，詳列在Excel\n",
        "\n",
        "包含五個欄位：餐廳名稱、地區、類型、評價、價格區間  \n",
        "**2.向量生成**\n",
        "\n",
        "在查詢時直接載入FAISS資料庫，將使用者查詢轉換為向量後，於索引中高效檢索最相關餐廳\n",
        "\n",
        "**3. 語意查詢與推薦**\n",
        "\n",
        "將使用者需求轉向量，比較餘弦相似度找出最相關餐廳\n",
        "\n",
        "前3名高分餐廳回傳給用戶\n",
        "\n",
        "**4. 自動產生推薦理由**\n",
        "\n",
        "以簡易模板將餐廳資訊自動組合成自然中文推薦理由，貼近 IG 美食帳號風格\n",
        "\n",
        "**5. 成果展示**\n",
        "\n",
        "以 Colab 筆記本程式完整呈現操作流程\n"
      ],
      "metadata": {
        "id": "afHzowGbTOAY"
      }
    }
  ]
}