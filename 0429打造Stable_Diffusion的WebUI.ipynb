{
  "cells": [
    {
      "cell_type": "markdown",
      "metadata": {
        "id": "view-in-github",
        "colab_type": "text"
      },
      "source": [
        "<a href=\"https://colab.research.google.com/github/JIng-Yu-Huang/generative-AI_hw/blob/main/0429%E6%89%93%E9%80%A0Stable_Diffusion%E7%9A%84WebUI.ipynb\" target=\"_parent\"><img src=\"https://colab.research.google.com/assets/colab-badge.svg\" alt=\"Open In Colab\"/></a>"
      ]
    },
    {
      "cell_type": "markdown",
      "metadata": {
        "id": "gLEQCNfkBxm6"
      },
      "source": [
        "# 📚 打造 Stable Diffusion 的 WebUI\n",
        "\n",
        "### 1. 安裝必要套件"
      ]
    },
    {
      "cell_type": "code",
      "execution_count": null,
      "metadata": {
        "id": "50QsZ9LcBw5Y"
      },
      "outputs": [],
      "source": [
        "!pip install diffusers transformers accelerate safetensors huggingface_hub gradio --upgrade"
      ]
    },
    {
      "cell_type": "code",
      "execution_count": null,
      "metadata": {
        "id": "e3YMEdSZB98I"
      },
      "outputs": [],
      "source": [
        "# from google.colab import userdata\n",
        "\n",
        "# hf_token = userdata.get(\"HuggingFace\")\n",
        "# login(token=hf_token)"
      ]
    },
    {
      "cell_type": "code",
      "execution_count": null,
      "metadata": {
        "id": "AxCcNOPBCmf2"
      },
      "outputs": [],
      "source": [
        "from diffusers import StableDiffusionPipeline, UniPCMultistepScheduler\n",
        "import torch\n",
        "import gc\n",
        "import matplotlib.pyplot as plt\n",
        "import gradio as gr\n",
        "import random"
      ]
    },
    {
      "cell_type": "markdown",
      "metadata": {
        "id": "8NhvpxxqCqps"
      },
      "source": [
        "### 2. 指定並讀入模型"
      ]
    },
    {
      "cell_type": "code",
      "execution_count": null,
      "metadata": {
        "id": "yy2-xjIyCpbI"
      },
      "outputs": [],
      "source": [
        "model_name = \"Lykon/dreamshaper-8\""
      ]
    },
    {
      "cell_type": "markdown",
      "source": [
        "注意有可能要停用 `use_safetensors=True`。"
      ],
      "metadata": {
        "id": "cfsSUkxlUpsi"
      }
    },
    {
      "cell_type": "code",
      "execution_count": null,
      "metadata": {
        "id": "c4fEdszfCyO7"
      },
      "outputs": [],
      "source": [
        "pipe = StableDiffusionPipeline.from_pretrained(\n",
        "    model_name,\n",
        "    torch_dtype=torch.float16,\n",
        "    use_safetensors=True\n",
        ").to(\"cuda\")"
      ]
    },
    {
      "cell_type": "code",
      "execution_count": null,
      "metadata": {
        "id": "rzzFo2qCC56V"
      },
      "outputs": [],
      "source": [
        "pipe.scheduler = UniPCMultistepScheduler.from_config(pipe.scheduler.config)"
      ]
    },
    {
      "cell_type": "markdown",
      "metadata": {
        "id": "X4ZAPdMsC_Dq"
      },
      "source": [
        "### 3. 生成的函式"
      ]
    },
    {
      "cell_type": "code",
      "execution_count": null,
      "metadata": {
        "id": "mpPjwVKbDEKe"
      },
      "outputs": [],
      "source": [
        "def generate_images(prompt, use_enhance, enhance_text, use_negative, negative_text,\n",
        "                    use_custom_seed, custom_seed, height, width, steps, num_images):\n",
        "\n",
        "    height = int(height)\n",
        "    width = int(width)\n",
        "\n",
        "    if height % 8 != 0 or width % 8 != 0:\n",
        "        raise ValueError(\"高度和寬度必須是8的倍數！\")\n",
        "\n",
        "    if use_custom_seed:\n",
        "        base_seed = int(custom_seed)\n",
        "    else:\n",
        "        base_seed = random.randint(0, 2**32 - 1)\n",
        "\n",
        "    seeds = [base_seed + i for i in range(num_images)]\n",
        "\n",
        "    prompts = []\n",
        "    negative_prompts = []\n",
        "    generators = []\n",
        "\n",
        "    final_prompt = prompt\n",
        "    if use_enhance and enhance_text:\n",
        "        final_prompt = prompt + \", \" + enhance_text\n",
        "\n",
        "    final_negative = negative_text if use_negative else None\n",
        "\n",
        "    for seed in seeds:\n",
        "        g = torch.Generator(\"cuda\").manual_seed(seed)\n",
        "        generators.append(g)\n",
        "        prompts.append(final_prompt)\n",
        "        negative_prompts.append(final_negative)\n",
        "\n",
        "    gc.collect()\n",
        "    torch.cuda.empty_cache()\n",
        "\n",
        "    images = []\n",
        "    for i in range(num_images):\n",
        "        with torch.no_grad():\n",
        "            image = pipe(\n",
        "                prompt=prompts[i],\n",
        "                negative_prompt=negative_prompts[i] if final_negative else None,\n",
        "                height=height,\n",
        "                width=width,\n",
        "                num_inference_steps=steps,\n",
        "                guidance_scale=7.5,\n",
        "                generator=generators[i]\n",
        "            ).images[0]\n",
        "            images.append(image)\n",
        "\n",
        "    return images, f\"使用的 random seeds: {seeds}\""
      ]
    },
    {
      "cell_type": "markdown",
      "metadata": {
        "id": "eKiTPYpWDVln"
      },
      "source": [
        "### 4. 打造 Gradio Web App"
      ]
    },
    {
      "cell_type": "code",
      "execution_count": null,
      "metadata": {
        "id": "2uJnUGTXDOCN"
      },
      "outputs": [],
      "source": [
        "default_enhance = (\n",
        "    # 高品質增強提示詞\n",
        "    \"8k, RAW photo, best quality, extremely detailed, perfect lighting, soft skin, \"\n",
        "    \"sharp eyes, beautiful face, ultra-realistic\"\n",
        "    # 8K、RAW 照片、最佳品質、極度細緻、完美打光、柔嫩皮膚、銳利眼神、美麗臉龐、超寫實風格\n",
        ")\n",
        "\n",
        "default_negative = (\n",
        "    # 避免出現的內容（負面提示詞）\n",
        "    \"bad anatomy, blurry, disfigured, poorly drawn hands, extra fingers, fused fingers, \"\n",
        "    \"mutated hands, deformed, lowres, jpeg artifacts, watermark, long neck, cloned face, ugly\"\n",
        "    # 解剖錯誤、模糊、畸形、手部畫錯、多手指、手指黏在一起、變異手、扭曲、低畫質、壓縮痕、水印、脖子過長、臉部複製、醜\n",
        ")\n",
        "# 新增：根據風格自動設定 enhance 與 negative\n",
        "def apply_style(style):\n",
        "    if style == \"🧩 預設風格\":\n",
        "        return (\n",
        "            \"8k, RAW photo, best quality, extremely detailed, perfect lighting, soft skin, \"\n",
        "            \"sharp eyes, beautiful face, ultra-realistic\",\n",
        "            \"bad anatomy, blurry, disfigured, poorly drawn hands, extra fingers, fused fingers, \"\n",
        "            \"mutated hands, deformed, lowres, jpeg artifacts, watermark, long neck, cloned face, ugly\"\n",
        "        )\n",
        "    elif style == \"🩰 可愛甜美風\":\n",
        "        return (\n",
        "            \"pastel colors, soft lighting, kawaii style, adorable face, light tones\",\n",
        "            \"ugly, scary, deformed, creepy, dark lighting\"\n",
        "        )\n",
        "    elif style == \"📷 寫實精緻風\":\n",
        "        return (\n",
        "            \"8k, ultra realistic, perfect face, best quality, sharp focus\",\n",
        "            \"lowres, bad hands, bad anatomy, jpeg artifacts\"\n",
        "        )\n",
        "    elif style == \"🎨 動漫插畫風\":\n",
        "        return (\n",
        "            \"anime style, cel shading, big eyes, colorful background, detailed lineart\",\n",
        "            \"poorly drawn, sketchy, distorted, extra limbs\"\n",
        "        )\n",
        "    return \"\", \"\"\n",
        "\n",
        "with gr.Blocks(css=\"\"\"\n",
        ".gradio-container {background-color: #FFE4F0; padding: 20px;}\n",
        ".gr-button {font-size: 18px; background: linear-gradient(to right, #FF9A9E, #FAD0C4); color: white;}\n",
        "\"\"\") as demo:\n",
        "    gr.Markdown(\"\"\"\n",
        "    # 💁‍♀️ DreamShaper 人物圖像生成器\n",
        "    選好提示詞與參數，馬上創作出你夢想中的角色照片！\n",
        "    \"\"\")\n",
        "\n",
        "    with gr.Row():\n",
        "        with gr.Column(scale=6):\n",
        "            prompt = gr.Textbox(\n",
        "                label=\"Prompt\",\n",
        "                placeholder=\"a cute girl sitting on the grass, eating basque burnt cheesecake and ice cream\",\n",
        "                lines=3\n",
        "            )\n",
        "\n",
        "            with gr.Row():\n",
        "                use_enhance = gr.Checkbox(label=\"加強 Prompt 效果\", value=True)\n",
        "                enhance_text = gr.Textbox(label=\"加強內容\", value=default_enhance)\n",
        "\n",
        "            with gr.Row():\n",
        "                use_negative = gr.Checkbox(label=\"加入負面提示詞 (Negative Prompt)\", value=True)\n",
        "                negative_text = gr.Textbox(label=\"Negative Prompt 內容\", value=default_negative)\n",
        "\n",
        "            # 🎨 新增風格選單與按鈕\n",
        "            with gr.Row():\n",
        "                style_selector = gr.Dropdown(\n",
        "                    [\"🧩 預設風格\",\"🩰 可愛甜美風\", \"📷 寫實精緻風\", \"🎨 動漫插畫風\"],\n",
        "                    label=\"🎨 選擇風格並套用!\",\n",
        "                    value=\"🧩 預設風格\"\n",
        "                )\n",
        "                style_btn = gr.Button(\"➡️ 套用風格設定\")\n",
        "\n",
        "            style_btn.click(fn=apply_style, inputs=style_selector, outputs=[enhance_text, negative_text])\n",
        "\n",
        "            with gr.Row():\n",
        "                use_custom_seed = gr.Checkbox(label=\"自訂 Random Seed\", value=False)\n",
        "                custom_seed = gr.Number(label=\"指定 seed (選填)\", value=42)\n",
        "\n",
        "            with gr.Row():\n",
        "                height = gr.Dropdown([\"512\", \"768\", \"1024\"], label=\"圖片高度\", value=\"768\")\n",
        "                width = gr.Dropdown([\"512\", \"768\", \"1024\"], label=\"圖片寬度\", value=\"512\")\n",
        "\n",
        "            with gr.Row():\n",
        "                steps = gr.Slider(10, 50, value=30, step=5, label=\"生成步數 (Steps)\")\n",
        "                num_images = gr.Slider(1, 4, step=1, value=1, label=\"生成張數\")\n",
        "\n",
        "            generate_btn = gr.Button(\"✨ 開始創作！\")\n",
        "\n",
        "        with gr.Column(scale=6):\n",
        "            gallery = gr.Gallery(label=\"生成結果\", columns=2, object_fit=\"contain\", height=\"auto\")\n",
        "            seed_info = gr.Label(label=\"使用的 Random Seeds\")\n",
        "\n",
        "    generate_btn.click(\n",
        "        fn=generate_images,\n",
        "        inputs=[prompt, use_enhance, enhance_text, use_negative, negative_text,\n",
        "                use_custom_seed, custom_seed, height, width, steps, num_images],\n",
        "        outputs=[gallery, seed_info]\n",
        "    )\n"
      ]
    },
    {
      "cell_type": "code",
      "source": [
        "pipe = StableDiffusionPipeline.from_pretrained(\n",
        "    \"Lykon/dreamshaper-8\",\n",
        "    torch_dtype=torch.float16,\n",
        "    use_safetensors=True\n",
        ").to(\"cuda\")\n",
        "\n",
        "pipe.enable_attention_slicing()\n",
        "result = pipe(\n",
        "    prompt=\"a cute girl sitting in a flower field, holding a strawberry parfait, smiling at the camera\",\n",
        "    negative_prompt=\"ugly, bad anatomy, blurry\",\n",
        "    height=512,\n",
        "    width=512,\n",
        "    num_inference_steps=30\n",
        ").images[0]\n",
        "result.save(\"test.png\")\n"
      ],
      "metadata": {
        "id": "l9jRmn9INzIp"
      },
      "execution_count": null,
      "outputs": []
    },
    {
      "cell_type": "code",
      "source": [
        "from diffusers import StableDiffusionPipeline, DDIMScheduler\n",
        "import torch, gc\n",
        "\n",
        "model_id = \"Lykon/dreamshaper-8\"\n",
        "\n",
        "# ① 全 float16 載入\n",
        "pipe = StableDiffusionPipeline.from_pretrained(\n",
        "    model_id,\n",
        "    torch_dtype=torch.float16,\n",
        "    use_safetensors=True\n",
        ").to(\"cuda\")\n",
        "\n",
        "# ② 換成穩定的 DDIM 排程器（黑圖多半是 Scheduler 溢出）\n",
        "pipe.scheduler = DDIMScheduler.from_config(pipe.scheduler.config)\n",
        "\n",
        "pipe.enable_attention_slicing()  # 省顯存，可留可拿掉\n",
        "\n",
        "gc.collect(); torch.cuda.empty_cache()\n",
        "\n",
        "# ③ 測試產生一張\n",
        "image = pipe(\n",
        "    prompt=\"a cute girl sitting in a flower field, holding a strawberry parfait, smiling at the camera, pastel colors, soft lighting, ultra detailed, dreamy atmosphere\",\n",
        "    negative_prompt=\"ugly, bad anatomy, blurry\",\n",
        "    height=512,\n",
        "    width=512,\n",
        "    num_inference_steps=30\n",
        ").images[0]\n",
        "\n",
        "image\n"
      ],
      "metadata": {
        "id": "uPky42SROJ_b"
      },
      "execution_count": null,
      "outputs": []
    },
    {
      "cell_type": "code",
      "execution_count": null,
      "metadata": {
        "id": "IYR6wPYHDmkn"
      },
      "outputs": [],
      "source": [
        "demo.launch(share=True, debug=True)"
      ]
    }
  ],
  "metadata": {
    "accelerator": "GPU",
    "colab": {
      "gpuType": "T4",
      "private_outputs": true,
      "provenance": [],
      "include_colab_link": true
    },
    "kernelspec": {
      "display_name": "Python 3",
      "name": "python3"
    },
    "language_info": {
      "name": "python"
    }
  },
  "nbformat": 4,
  "nbformat_minor": 0
}